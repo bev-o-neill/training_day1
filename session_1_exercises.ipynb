{
 "cells": [
  {
   "cell_type": "code",
   "execution_count": null,
   "metadata": {},
   "outputs": [],
   "source": [
    "import qiskit\n",
    "from qiskit import QuantumCircuit, execute\n",
    "us = qiskit.Aer.get_backend('unitary_simulator')\n",
    "\n",
    "from numpy import eye, diag, outer, exp, pi, arange, sqrt, array, kron\n",
    "from scipy.stats import uniform\n",
    "\n",
    "from numpy.linalg import norm\n",
    "\n",
    "from tools import revmat"
   ]
  },
  {
   "cell_type": "markdown",
   "metadata": {},
   "source": [
    "Exercise 1 : Write a circuit for the SWAP gate"
   ]
  },
  {
   "cell_type": "code",
   "execution_count": null,
   "metadata": {},
   "outputs": [],
   "source": [
    "SWAP_MATRIX = eye(4)[[0, 2, 1, 3]]\n",
    "\n",
    "def swap_circ():\n",
    "    # TO DO : create and fill the circuit\n",
    "    return qc\n",
    "\n",
    "swap_gate = lambda : swap_circ().to_gate()"
   ]
  },
  {
   "cell_type": "code",
   "execution_count": null,
   "metadata": {},
   "outputs": [],
   "source": [
    "q = swap_circ()\n",
    "job = execute(q, backend=us)\n",
    "V = revmat(job.result().get_unitary())\n",
    "norm(V - SWAP_MATRIX)"
   ]
  },
  {
   "cell_type": "markdown",
   "metadata": {},
   "source": [
    "Exercise 2 : Write a circuit for a controlled phase shift"
   ]
  },
  {
   "cell_type": "code",
   "execution_count": null,
   "metadata": {},
   "outputs": [],
   "source": [
    "C_PHASE_MATRIX = lambda t : diag([1]*3 + [exp(1j*t)])\n",
    "\n",
    "def c_phase_circ(t):\n",
    "    # TO DO : create and fill the circui\n",
    "    # you can call a phase shift with circuit qc.p(angle, qubit)\n",
    "    return qc\n",
    "\n",
    "c_phase_gate = lambda t : c_phase_circ(t).to_gate()"
   ]
  },
  {
   "cell_type": "code",
   "execution_count": null,
   "metadata": {},
   "outputs": [],
   "source": [
    "t = uniform(0, 2*pi).rvs()\n",
    "q = c_phase_circ(t)\n",
    "job = execute(q, backend=us)\n",
    "V = revmat(job.result().get_unitary())\n",
    "norm(V - C_PHASE_MATRIX(t))"
   ]
  },
  {
   "cell_type": "markdown",
   "metadata": {},
   "source": [
    "Exercise 3 : Write a circuit for the Fourier transform"
   ]
  },
  {
   "cell_type": "code",
   "execution_count": null,
   "metadata": {},
   "outputs": [],
   "source": [
    "FOURIER_MATRIX = lambda N : exp(2j*pi*outer(arange(N), arange(N))/N)/sqrt(N)\n",
    "\n",
    "def fourier_circ(n):\n",
    "    # TO DO : create and fill the Fourier circuit using the previous gates  \n",
    "    # You can call a gate with qc.append(gate, qubits)\n",
    "    return qc\n",
    "\n",
    "fourier_gate = lambda n : fourier_circ(n).to_gate()"
   ]
  },
  {
   "cell_type": "code",
   "execution_count": null,
   "metadata": {},
   "outputs": [],
   "source": [
    "n = 7\n",
    "N = 2**n\n",
    "q = fourier_circ(n)\n",
    "job = execute(q, backend=us)\n",
    "V = revmat(job.result().get_unitary())\n",
    "norm(V - FOURIER_MATRIX(N))"
   ]
  },
  {
   "cell_type": "code",
   "execution_count": null,
   "metadata": {},
   "outputs": [],
   "source": []
  }
 ],
 "metadata": {
  "kernelspec": {
   "display_name": "Python 3",
   "language": "python",
   "name": "python3"
  },
  "language_info": {
   "codemirror_mode": {
    "name": "ipython",
    "version": 3
   },
   "file_extension": ".py",
   "mimetype": "text/x-python",
   "name": "python",
   "nbconvert_exporter": "python",
   "pygments_lexer": "ipython3",
   "version": "3.8.6"
  }
 },
 "nbformat": 4,
 "nbformat_minor": 4
}
